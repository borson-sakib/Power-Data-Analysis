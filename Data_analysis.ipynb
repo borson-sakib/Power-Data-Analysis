{
 "cells": [
  {
   "cell_type": "code",
   "execution_count": 1,
   "metadata": {},
   "outputs": [],
   "source": [
    "import pandas as pd\n",
    "import matplotlib.pyplot as plt\n",
    "import seaborn as sns\n",
    "\n",
    "\n",
    "## Predict PV power (Active Power) based on weather data"
   ]
  },
  {
   "cell_type": "code",
   "execution_count": 2,
   "metadata": {},
   "outputs": [],
   "source": [
    "#Datareading\n",
    "#LIMIT = 100\n",
    "LIMIT = None\n",
    "weather_data = pd.read_csv('101-Site_DKA-WeatherStation.csv', engine='python', encoding=\"ISO-8859-1\",b\n",
    "                                  parse_dates=['timestamp'], index_col=['timestamp'],nrows=LIMIT)"
   ]
  },
  {
   "cell_type": "code",
   "execution_count": 5,
   "metadata": {},
   "outputs": [
    {
     "name": "stdout",
     "output_type": "stream",
     "text": [
      "<class 'pandas.core.frame.DataFrame'>\n",
      "DatetimeIndex: 1048575 entries, 2008-12-09 05:55:00 to 2018-09-26 12:15:00\n",
      "Data columns (total 9 columns):\n",
      " #   Column                        Non-Null Count    Dtype  \n",
      "---  ------                        --------------    -----  \n",
      " 0   Wind_Speed                    841771 non-null   float64\n",
      " 1   Weather_Temperature_Celsius   1047948 non-null  float64\n",
      " 2   Weather_Relative_Humidity     1047948 non-null  float64\n",
      " 3   Global_Horizontal_Radiation   1047948 non-null  float64\n",
      " 4   Diffuse_Horizontal_Radiation  1047948 non-null  float64\n",
      " 5   Wind_Direction                1045787 non-null  float64\n",
      " 6   Weather_Daily_Rainfall        1047967 non-null  float64\n",
      " 7   Radiation_Global_Tilted       500972 non-null   float64\n",
      " 8   Radiation_Diffuse_Tilted      543099 non-null   float64\n",
      "dtypes: float64(9)\n",
      "memory usage: 80.0 MB\n"
     ]
    }
   ],
   "source": [
    "weather_data.info()"
   ]
  },
  {
   "cell_type": "code",
   "execution_count": 4,
   "metadata": {},
   "outputs": [
    {
     "data": {
      "text/html": [
       "<div>\n",
       "<style scoped>\n",
       "    .dataframe tbody tr th:only-of-type {\n",
       "        vertical-align: middle;\n",
       "    }\n",
       "\n",
       "    .dataframe tbody tr th {\n",
       "        vertical-align: top;\n",
       "    }\n",
       "\n",
       "    .dataframe thead th {\n",
       "        text-align: right;\n",
       "    }\n",
       "</style>\n",
       "<table border=\"1\" class=\"dataframe\">\n",
       "  <thead>\n",
       "    <tr style=\"text-align: right;\">\n",
       "      <th></th>\n",
       "      <th>count</th>\n",
       "      <th>mean</th>\n",
       "      <th>std</th>\n",
       "      <th>min</th>\n",
       "      <th>25%</th>\n",
       "      <th>50%</th>\n",
       "      <th>75%</th>\n",
       "      <th>max</th>\n",
       "    </tr>\n",
       "  </thead>\n",
       "  <tbody>\n",
       "    <tr>\n",
       "      <th>Wind_Speed</th>\n",
       "      <td>841771.0</td>\n",
       "      <td>2.508527</td>\n",
       "      <td>4.362972</td>\n",
       "      <td>-1.742131e+03</td>\n",
       "      <td>1.157686</td>\n",
       "      <td>2.251974</td>\n",
       "      <td>3.586417</td>\n",
       "      <td>54.389500</td>\n",
       "    </tr>\n",
       "    <tr>\n",
       "      <th>Weather_Temperature_Celsius</th>\n",
       "      <td>1047948.0</td>\n",
       "      <td>21.144343</td>\n",
       "      <td>9.629623</td>\n",
       "      <td>-3.998763e+01</td>\n",
       "      <td>14.551287</td>\n",
       "      <td>21.647482</td>\n",
       "      <td>28.203893</td>\n",
       "      <td>51.261726</td>\n",
       "    </tr>\n",
       "    <tr>\n",
       "      <th>Weather_Relative_Humidity</th>\n",
       "      <td>1047948.0</td>\n",
       "      <td>39.800829</td>\n",
       "      <td>24.715014</td>\n",
       "      <td>0.000000e+00</td>\n",
       "      <td>19.943620</td>\n",
       "      <td>33.012621</td>\n",
       "      <td>56.260888</td>\n",
       "      <td>102.896820</td>\n",
       "    </tr>\n",
       "    <tr>\n",
       "      <th>Global_Horizontal_Radiation</th>\n",
       "      <td>1047948.0</td>\n",
       "      <td>257.624377</td>\n",
       "      <td>354.752392</td>\n",
       "      <td>-9.856900e+02</td>\n",
       "      <td>3.326437</td>\n",
       "      <td>8.335482</td>\n",
       "      <td>508.183243</td>\n",
       "      <td>2725.605957</td>\n",
       "    </tr>\n",
       "    <tr>\n",
       "      <th>Diffuse_Horizontal_Radiation</th>\n",
       "      <td>1047948.0</td>\n",
       "      <td>55.163553</td>\n",
       "      <td>91.259754</td>\n",
       "      <td>0.000000e+00</td>\n",
       "      <td>1.202074</td>\n",
       "      <td>5.937956</td>\n",
       "      <td>73.328865</td>\n",
       "      <td>2134.985107</td>\n",
       "    </tr>\n",
       "    <tr>\n",
       "      <th>Wind_Direction</th>\n",
       "      <td>1045787.0</td>\n",
       "      <td>21.182669</td>\n",
       "      <td>3716.376762</td>\n",
       "      <td>-9.999991e+04</td>\n",
       "      <td>99.062798</td>\n",
       "      <td>147.000000</td>\n",
       "      <td>239.995308</td>\n",
       "      <td>30152.339840</td>\n",
       "    </tr>\n",
       "    <tr>\n",
       "      <th>Weather_Daily_Rainfall</th>\n",
       "      <td>1047967.0</td>\n",
       "      <td>0.376306</td>\n",
       "      <td>2.693506</td>\n",
       "      <td>0.000000e+00</td>\n",
       "      <td>0.000000</td>\n",
       "      <td>0.000000</td>\n",
       "      <td>0.000000</td>\n",
       "      <td>67.199997</td>\n",
       "    </tr>\n",
       "    <tr>\n",
       "      <th>Radiation_Global_Tilted</th>\n",
       "      <td>500972.0</td>\n",
       "      <td>277.041893</td>\n",
       "      <td>380.455914</td>\n",
       "      <td>4.670000e-43</td>\n",
       "      <td>2.638995</td>\n",
       "      <td>8.409935</td>\n",
       "      <td>557.449585</td>\n",
       "      <td>1553.391113</td>\n",
       "    </tr>\n",
       "    <tr>\n",
       "      <th>Radiation_Diffuse_Tilted</th>\n",
       "      <td>543099.0</td>\n",
       "      <td>49.932778</td>\n",
       "      <td>245.180992</td>\n",
       "      <td>-1.919657e-02</td>\n",
       "      <td>1.404235</td>\n",
       "      <td>2.892333</td>\n",
       "      <td>70.354206</td>\n",
       "      <td>97322.585940</td>\n",
       "    </tr>\n",
       "  </tbody>\n",
       "</table>\n",
       "</div>"
      ],
      "text/plain": [
       "                                  count        mean          std  \\\n",
       "Wind_Speed                     841771.0    2.508527     4.362972   \n",
       "Weather_Temperature_Celsius   1047948.0   21.144343     9.629623   \n",
       "Weather_Relative_Humidity     1047948.0   39.800829    24.715014   \n",
       "Global_Horizontal_Radiation   1047948.0  257.624377   354.752392   \n",
       "Diffuse_Horizontal_Radiation  1047948.0   55.163553    91.259754   \n",
       "Wind_Direction                1045787.0   21.182669  3716.376762   \n",
       "Weather_Daily_Rainfall        1047967.0    0.376306     2.693506   \n",
       "Radiation_Global_Tilted        500972.0  277.041893   380.455914   \n",
       "Radiation_Diffuse_Tilted       543099.0   49.932778   245.180992   \n",
       "\n",
       "                                       min        25%         50%         75%  \\\n",
       "Wind_Speed                   -1.742131e+03   1.157686    2.251974    3.586417   \n",
       "Weather_Temperature_Celsius  -3.998763e+01  14.551287   21.647482   28.203893   \n",
       "Weather_Relative_Humidity     0.000000e+00  19.943620   33.012621   56.260888   \n",
       "Global_Horizontal_Radiation  -9.856900e+02   3.326437    8.335482  508.183243   \n",
       "Diffuse_Horizontal_Radiation  0.000000e+00   1.202074    5.937956   73.328865   \n",
       "Wind_Direction               -9.999991e+04  99.062798  147.000000  239.995308   \n",
       "Weather_Daily_Rainfall        0.000000e+00   0.000000    0.000000    0.000000   \n",
       "Radiation_Global_Tilted       4.670000e-43   2.638995    8.409935  557.449585   \n",
       "Radiation_Diffuse_Tilted     -1.919657e-02   1.404235    2.892333   70.354206   \n",
       "\n",
       "                                       max  \n",
       "Wind_Speed                       54.389500  \n",
       "Weather_Temperature_Celsius      51.261726  \n",
       "Weather_Relative_Humidity       102.896820  \n",
       "Global_Horizontal_Radiation    2725.605957  \n",
       "Diffuse_Horizontal_Radiation   2134.985107  \n",
       "Wind_Direction                30152.339840  \n",
       "Weather_Daily_Rainfall           67.199997  \n",
       "Radiation_Global_Tilted        1553.391113  \n",
       "Radiation_Diffuse_Tilted      97322.585940  "
      ]
     },
     "execution_count": 4,
     "metadata": {},
     "output_type": "execute_result"
    }
   ],
   "source": [
    "weather_data.describe().transpose()"
   ]
  },
  {
   "cell_type": "code",
   "execution_count": 6,
   "metadata": {},
   "outputs": [
    {
     "data": {
      "text/plain": [
       "Index(['Wind_Speed', 'Weather_Temperature_Celsius',\n",
       "       'Weather_Relative_Humidity', 'Global_Horizontal_Radiation',\n",
       "       'Diffuse_Horizontal_Radiation', 'Wind_Direction',\n",
       "       'Weather_Daily_Rainfall', 'Radiation_Global_Tilted',\n",
       "       'Radiation_Diffuse_Tilted'],\n",
       "      dtype='object')"
      ]
     },
     "execution_count": 6,
     "metadata": {},
     "output_type": "execute_result"
    }
   ],
   "source": [
    "weather_data.columns"
   ]
  },
  {
   "cell_type": "code",
   "execution_count": 22,
   "metadata": {},
   "outputs": [
    {
     "data": {
      "text/plain": [
       "(1048575, 9)"
      ]
     },
     "execution_count": 22,
     "metadata": {},
     "output_type": "execute_result"
    }
   ],
   "source": [
    "weather_data.shape"
   ]
  },
  {
   "cell_type": "code",
   "execution_count": 18,
   "metadata": {},
   "outputs": [
    {
     "data": {
      "text/html": [
       "<div>\n",
       "<style scoped>\n",
       "    .dataframe tbody tr th:only-of-type {\n",
       "        vertical-align: middle;\n",
       "    }\n",
       "\n",
       "    .dataframe tbody tr th {\n",
       "        vertical-align: top;\n",
       "    }\n",
       "\n",
       "    .dataframe thead th {\n",
       "        text-align: right;\n",
       "    }\n",
       "</style>\n",
       "<table border=\"1\" class=\"dataframe\">\n",
       "  <thead>\n",
       "    <tr style=\"text-align: right;\">\n",
       "      <th></th>\n",
       "      <th>Wind_Speed</th>\n",
       "      <th>Weather_Temperature_Celsius</th>\n",
       "      <th>Weather_Relative_Humidity</th>\n",
       "      <th>Global_Horizontal_Radiation</th>\n",
       "      <th>Diffuse_Horizontal_Radiation</th>\n",
       "      <th>Wind_Direction</th>\n",
       "      <th>Weather_Daily_Rainfall</th>\n",
       "      <th>Radiation_Global_Tilted</th>\n",
       "      <th>Radiation_Diffuse_Tilted</th>\n",
       "    </tr>\n",
       "    <tr>\n",
       "      <th>timestamp</th>\n",
       "      <th></th>\n",
       "      <th></th>\n",
       "      <th></th>\n",
       "      <th></th>\n",
       "      <th></th>\n",
       "      <th></th>\n",
       "      <th></th>\n",
       "      <th></th>\n",
       "      <th></th>\n",
       "    </tr>\n",
       "  </thead>\n",
       "  <tbody>\n",
       "    <tr>\n",
       "      <th>2018-09-26 11:55:00</th>\n",
       "      <td>NaN</td>\n",
       "      <td>27.999962</td>\n",
       "      <td>10.145400</td>\n",
       "      <td>1089.497803</td>\n",
       "      <td>106.742630</td>\n",
       "      <td>29.817230</td>\n",
       "      <td>0.0</td>\n",
       "      <td>1160.387817</td>\n",
       "      <td>100.968041</td>\n",
       "    </tr>\n",
       "    <tr>\n",
       "      <th>2018-09-26 12:00:00</th>\n",
       "      <td>NaN</td>\n",
       "      <td>28.427448</td>\n",
       "      <td>9.907348</td>\n",
       "      <td>1092.054688</td>\n",
       "      <td>104.849342</td>\n",
       "      <td>29.701479</td>\n",
       "      <td>0.0</td>\n",
       "      <td>1166.877930</td>\n",
       "      <td>99.751610</td>\n",
       "    </tr>\n",
       "    <tr>\n",
       "      <th>2018-09-26 12:05:00</th>\n",
       "      <td>NaN</td>\n",
       "      <td>28.141226</td>\n",
       "      <td>10.053848</td>\n",
       "      <td>1098.977539</td>\n",
       "      <td>107.366463</td>\n",
       "      <td>29.691515</td>\n",
       "      <td>0.0</td>\n",
       "      <td>1171.070190</td>\n",
       "      <td>97.454041</td>\n",
       "    </tr>\n",
       "    <tr>\n",
       "      <th>2018-09-26 12:10:00</th>\n",
       "      <td>NaN</td>\n",
       "      <td>28.631046</td>\n",
       "      <td>9.615940</td>\n",
       "      <td>1099.987061</td>\n",
       "      <td>105.021545</td>\n",
       "      <td>29.630993</td>\n",
       "      <td>0.0</td>\n",
       "      <td>1177.123169</td>\n",
       "      <td>98.706070</td>\n",
       "    </tr>\n",
       "    <tr>\n",
       "      <th>2018-09-26 12:15:00</th>\n",
       "      <td>NaN</td>\n",
       "      <td>28.163515</td>\n",
       "      <td>9.758543</td>\n",
       "      <td>1107.867188</td>\n",
       "      <td>111.967743</td>\n",
       "      <td>29.668180</td>\n",
       "      <td>0.0</td>\n",
       "      <td>1180.499146</td>\n",
       "      <td>100.589127</td>\n",
       "    </tr>\n",
       "  </tbody>\n",
       "</table>\n",
       "</div>"
      ],
      "text/plain": [
       "                     Wind_Speed  Weather_Temperature_Celsius  \\\n",
       "timestamp                                                      \n",
       "2018-09-26 11:55:00         NaN                    27.999962   \n",
       "2018-09-26 12:00:00         NaN                    28.427448   \n",
       "2018-09-26 12:05:00         NaN                    28.141226   \n",
       "2018-09-26 12:10:00         NaN                    28.631046   \n",
       "2018-09-26 12:15:00         NaN                    28.163515   \n",
       "\n",
       "                     Weather_Relative_Humidity  Global_Horizontal_Radiation  \\\n",
       "timestamp                                                                     \n",
       "2018-09-26 11:55:00                  10.145400                  1089.497803   \n",
       "2018-09-26 12:00:00                   9.907348                  1092.054688   \n",
       "2018-09-26 12:05:00                  10.053848                  1098.977539   \n",
       "2018-09-26 12:10:00                   9.615940                  1099.987061   \n",
       "2018-09-26 12:15:00                   9.758543                  1107.867188   \n",
       "\n",
       "                     Diffuse_Horizontal_Radiation  Wind_Direction  \\\n",
       "timestamp                                                           \n",
       "2018-09-26 11:55:00                    106.742630       29.817230   \n",
       "2018-09-26 12:00:00                    104.849342       29.701479   \n",
       "2018-09-26 12:05:00                    107.366463       29.691515   \n",
       "2018-09-26 12:10:00                    105.021545       29.630993   \n",
       "2018-09-26 12:15:00                    111.967743       29.668180   \n",
       "\n",
       "                     Weather_Daily_Rainfall  Radiation_Global_Tilted  \\\n",
       "timestamp                                                              \n",
       "2018-09-26 11:55:00                     0.0              1160.387817   \n",
       "2018-09-26 12:00:00                     0.0              1166.877930   \n",
       "2018-09-26 12:05:00                     0.0              1171.070190   \n",
       "2018-09-26 12:10:00                     0.0              1177.123169   \n",
       "2018-09-26 12:15:00                     0.0              1180.499146   \n",
       "\n",
       "                     Radiation_Diffuse_Tilted  \n",
       "timestamp                                      \n",
       "2018-09-26 11:55:00                100.968041  \n",
       "2018-09-26 12:00:00                 99.751610  \n",
       "2018-09-26 12:05:00                 97.454041  \n",
       "2018-09-26 12:10:00                 98.706070  \n",
       "2018-09-26 12:15:00                100.589127  "
      ]
     },
     "execution_count": 18,
     "metadata": {},
     "output_type": "execute_result"
    }
   ],
   "source": [
    "weather_data.tail()"
   ]
  },
  {
   "cell_type": "code",
   "execution_count": 15,
   "metadata": {},
   "outputs": [
    {
     "data": {
      "text/plain": [
       "[<matplotlib.lines.Line2D at 0x2618a77aaf0>]"
      ]
     },
     "execution_count": 15,
     "metadata": {},
     "output_type": "execute_result"
    },
    {
     "data": {
      "image/png": "[encoded data removed]",
      "text/plain": [
       "<Figure size 792x288 with 1 Axes>"
      ]
     },
     "metadata": {},
     "output_type": "display_data"
    }
   ],
   "source": [
    "# plot weather data\n",
    "\n",
    "dates='2008-12'      # yyyy-mm-dd\n",
    "colums='Weather_Temperature_Celsius'\n",
    "\n",
    "sns.set(rc={'figure.figsize':(11, 4)})\n",
    "plt.plot(weather_data.loc[dates,colums])\n"
   ]
  },
  {
   "cell_type": "code",
   "execution_count": null,
   "metadata": {},
   "outputs": [],
   "source": []
  },
  {
   "cell_type": "code",
   "execution_count": 16,
   "metadata": {},
   "outputs": [],
   "source": [
    "\n",
    "PV_data = pd.read_csv('71-Site_18-SunPower.csv', engine='python', encoding=\"ISO-8859-1\",\n",
    "                                  parse_dates=['timestamp'], index_col=['timestamp'],nrows=LIMIT)"
   ]
  },
  {
   "cell_type": "code",
   "execution_count": 17,
   "metadata": {},
   "outputs": [
    {
     "name": "stdout",
     "output_type": "stream",
     "text": [
      "<class 'pandas.core.frame.DataFrame'>\n",
      "DatetimeIndex: 782116 entries, 2013-07-22 00:00:00 to 2021-06-01 17:10:00\n",
      "Data columns (total 4 columns):\n",
      " #   Column                            Non-Null Count   Dtype  \n",
      "---  ------                            --------------   -----  \n",
      " 0   Active_Energy_Delivered_Received  782114 non-null  float64\n",
      " 1   Current_Phase_Average             782113 non-null  float64\n",
      " 2   Active_Power                      782113 non-null  float64\n",
      " 3   Performance_Ratio                 587350 non-null  float64\n",
      "dtypes: float64(4)\n",
      "memory usage: 29.8 MB\n"
     ]
    }
   ],
   "source": [
    "PV_data.info() "
   ]
  },
  {
   "cell_type": "code",
   "execution_count": 19,
   "metadata": {
    "scrolled": true
   },
   "outputs": [
    {
     "data": {
      "text/html": [
       "<div>\n",
       "<style scoped>\n",
       "    .dataframe tbody tr th:only-of-type {\n",
       "        vertical-align: middle;\n",
       "    }\n",
       "\n",
       "    .dataframe tbody tr th {\n",
       "        vertical-align: top;\n",
       "    }\n",
       "\n",
       "    .dataframe thead th {\n",
       "        text-align: right;\n",
       "    }\n",
       "</style>\n",
       "<table border=\"1\" class=\"dataframe\">\n",
       "  <thead>\n",
       "    <tr style=\"text-align: right;\">\n",
       "      <th></th>\n",
       "      <th>count</th>\n",
       "      <th>mean</th>\n",
       "      <th>std</th>\n",
       "      <th>min</th>\n",
       "      <th>25%</th>\n",
       "      <th>50%</th>\n",
       "      <th>75%</th>\n",
       "      <th>max</th>\n",
       "    </tr>\n",
       "  </thead>\n",
       "  <tbody>\n",
       "    <tr>\n",
       "      <th>Active_Energy_Delivered_Received</th>\n",
       "      <td>782114.0</td>\n",
       "      <td>65208.439299</td>\n",
       "      <td>23468.792844</td>\n",
       "      <td>24734.000000</td>\n",
       "      <td>44999.0</td>\n",
       "      <td>64897.000000</td>\n",
       "      <td>85463.000000</td>\n",
       "      <td>106215.000000</td>\n",
       "    </tr>\n",
       "    <tr>\n",
       "      <th>Current_Phase_Average</th>\n",
       "      <td>782113.0</td>\n",
       "      <td>5.329685</td>\n",
       "      <td>6.740518</td>\n",
       "      <td>0.000000</td>\n",
       "      <td>0.3</td>\n",
       "      <td>0.324333</td>\n",
       "      <td>10.922667</td>\n",
       "      <td>24.566666</td>\n",
       "    </tr>\n",
       "    <tr>\n",
       "      <th>Active_Power</th>\n",
       "      <td>782113.0</td>\n",
       "      <td>1.246813</td>\n",
       "      <td>1.688274</td>\n",
       "      <td>-0.004167</td>\n",
       "      <td>0.0</td>\n",
       "      <td>0.000000</td>\n",
       "      <td>2.658366</td>\n",
       "      <td>5.995067</td>\n",
       "    </tr>\n",
       "    <tr>\n",
       "      <th>Performance_Ratio</th>\n",
       "      <td>587350.0</td>\n",
       "      <td>209.937668</td>\n",
       "      <td>2152.667464</td>\n",
       "      <td>-10.909832</td>\n",
       "      <td>0.0</td>\n",
       "      <td>0.000000</td>\n",
       "      <td>82.639267</td>\n",
       "      <td>52036.359380</td>\n",
       "    </tr>\n",
       "  </tbody>\n",
       "</table>\n",
       "</div>"
      ],
      "text/plain": [
       "                                     count          mean           std  \\\n",
       "Active_Energy_Delivered_Received  782114.0  65208.439299  23468.792844   \n",
       "Current_Phase_Average             782113.0      5.329685      6.740518   \n",
       "Active_Power                      782113.0      1.246813      1.688274   \n",
       "Performance_Ratio                 587350.0    209.937668   2152.667464   \n",
       "\n",
       "                                           min      25%           50%  \\\n",
       "Active_Energy_Delivered_Received  24734.000000  44999.0  64897.000000   \n",
       "Current_Phase_Average                 0.000000      0.3      0.324333   \n",
       "Active_Power                         -0.004167      0.0      0.000000   \n",
       "Performance_Ratio                   -10.909832      0.0      0.000000   \n",
       "\n",
       "                                           75%            max  \n",
       "Active_Energy_Delivered_Received  85463.000000  106215.000000  \n",
       "Current_Phase_Average                10.922667      24.566666  \n",
       "Active_Power                          2.658366       5.995067  \n",
       "Performance_Ratio                    82.639267   52036.359380  "
      ]
     },
     "execution_count": 19,
     "metadata": {},
     "output_type": "execute_result"
    }
   ],
   "source": [
    "PV_data.describe().transpose()"
   ]
  },
  {
   "cell_type": "code",
   "execution_count": 23,
   "metadata": {},
   "outputs": [
    {
     "data": {
      "text/plain": [
       "(782116, 4)"
      ]
     },
     "execution_count": 23,
     "metadata": {},
     "output_type": "execute_result"
    }
   ],
   "source": [
    "PV_data.shape"
   ]
  },
  {
   "cell_type": "code",
   "execution_count": 20,
   "metadata": {},
   "outputs": [
    {
     "data": {
      "text/html": [
       "<div>\n",
       "<style scoped>\n",
       "    .dataframe tbody tr th:only-of-type {\n",
       "        vertical-align: middle;\n",
       "    }\n",
       "\n",
       "    .dataframe tbody tr th {\n",
       "        vertical-align: top;\n",
       "    }\n",
       "\n",
       "    .dataframe thead th {\n",
       "        text-align: right;\n",
       "    }\n",
       "</style>\n",
       "<table border=\"1\" class=\"dataframe\">\n",
       "  <thead>\n",
       "    <tr style=\"text-align: right;\">\n",
       "      <th></th>\n",
       "      <th>Active_Energy_Delivered_Received</th>\n",
       "      <th>Current_Phase_Average</th>\n",
       "      <th>Active_Power</th>\n",
       "      <th>Performance_Ratio</th>\n",
       "    </tr>\n",
       "    <tr>\n",
       "      <th>timestamp</th>\n",
       "      <th></th>\n",
       "      <th></th>\n",
       "      <th></th>\n",
       "      <th></th>\n",
       "    </tr>\n",
       "  </thead>\n",
       "  <tbody>\n",
       "    <tr>\n",
       "      <th>2013-07-22 00:00:00</th>\n",
       "      <td>24734.0</td>\n",
       "      <td>0.300667</td>\n",
       "      <td>0.0</td>\n",
       "      <td>NaN</td>\n",
       "    </tr>\n",
       "    <tr>\n",
       "      <th>2013-07-22 00:05:00</th>\n",
       "      <td>24734.0</td>\n",
       "      <td>0.301333</td>\n",
       "      <td>0.0</td>\n",
       "      <td>NaN</td>\n",
       "    </tr>\n",
       "    <tr>\n",
       "      <th>2013-07-22 00:10:00</th>\n",
       "      <td>24734.0</td>\n",
       "      <td>0.302333</td>\n",
       "      <td>0.0</td>\n",
       "      <td>NaN</td>\n",
       "    </tr>\n",
       "    <tr>\n",
       "      <th>2013-07-22 00:15:00</th>\n",
       "      <td>24734.0</td>\n",
       "      <td>0.301333</td>\n",
       "      <td>0.0</td>\n",
       "      <td>NaN</td>\n",
       "    </tr>\n",
       "    <tr>\n",
       "      <th>2013-07-22 00:20:00</th>\n",
       "      <td>24734.0</td>\n",
       "      <td>0.304667</td>\n",
       "      <td>0.0</td>\n",
       "      <td>NaN</td>\n",
       "    </tr>\n",
       "  </tbody>\n",
       "</table>\n",
       "</div>"
      ],
      "text/plain": [
       "                     Active_Energy_Delivered_Received  Current_Phase_Average  \\\n",
       "timestamp                                                                      \n",
       "2013-07-22 00:00:00                           24734.0               0.300667   \n",
       "2013-07-22 00:05:00                           24734.0               0.301333   \n",
       "2013-07-22 00:10:00                           24734.0               0.302333   \n",
       "2013-07-22 00:15:00                           24734.0               0.301333   \n",
       "2013-07-22 00:20:00                           24734.0               0.304667   \n",
       "\n",
       "                     Active_Power  Performance_Ratio  \n",
       "timestamp                                             \n",
       "2013-07-22 00:00:00           0.0                NaN  \n",
       "2013-07-22 00:05:00           0.0                NaN  \n",
       "2013-07-22 00:10:00           0.0                NaN  \n",
       "2013-07-22 00:15:00           0.0                NaN  \n",
       "2013-07-22 00:20:00           0.0                NaN  "
      ]
     },
     "execution_count": 20,
     "metadata": {},
     "output_type": "execute_result"
    }
   ],
   "source": [
    "PV_data.head()"
   ]
  },
  {
   "cell_type": "code",
   "execution_count": 21,
   "metadata": {},
   "outputs": [
    {
     "data": {
      "text/plain": [
       "DatetimeIndex(['2013-07-22 00:00:00', '2013-07-22 00:05:00',\n",
       "               '2013-07-22 00:10:00', '2013-07-22 00:15:00',\n",
       "               '2013-07-22 00:20:00', '2013-07-22 00:25:00',\n",
       "               '2013-07-22 00:30:00', '2013-07-22 00:35:00',\n",
       "               '2013-07-22 00:40:00', '2013-07-22 00:45:00',\n",
       "               ...\n",
       "               '2021-06-01 16:25:00', '2021-06-01 16:30:00',\n",
       "               '2021-06-01 16:35:00', '2021-06-01 16:40:00',\n",
       "               '2021-06-01 16:45:00', '2021-06-01 16:50:00',\n",
       "               '2021-06-01 16:55:00', '2021-06-01 17:00:00',\n",
       "               '2021-06-01 17:05:00', '2021-06-01 17:10:00'],\n",
       "              dtype='datetime64[ns]', name='timestamp', length=782116, freq=None)"
      ]
     },
     "execution_count": 21,
     "metadata": {},
     "output_type": "execute_result"
    }
   ],
   "source": [
    "PV_data.index"
   ]
  },
  {
   "cell_type": "code",
   "execution_count": 31,
   "metadata": {},
   "outputs": [
    {
     "data": {
      "text/plain": [
       "Text(0.5, 0, 'Time')"
      ]
     },
     "execution_count": 31,
     "metadata": {},
     "output_type": "execute_result"
    },
    {
     "data": {
      "image/png": "[encoded data removed]",
      "text/plain": [
       "<Figure size 792x288 with 1 Axes>"
      ]
     },
     "metadata": {},
     "output_type": "display_data"
    }
   ],
   "source": [
    "dates='2013-12-09'      # yyyy-mm-dd\n",
    "colums='Active_Power'\n",
    "\n",
    "sns.set(rc={'figure.figsize':(11, 4)})\n",
    "\n",
    "plt.plot(PV_data.loc[dates,colums])\n",
    "plt.ylabel('Active power (kW)')\n",
    "plt.xlabel('Time')"
   ]
  },
  {
   "cell_type": "code",
   "execution_count": null,
   "metadata": {},
   "outputs": [],
   "source": []
  },
  {
   "cell_type": "code",
   "execution_count": null,
   "metadata": {},
   "outputs": [],
   "source": []
  }
 ],
 "metadata": {
  "kernelspec": {
   "display_name": "Python 3",
   "language": "python",
   "name": "python3"
  },
  "language_info": {
   "codemirror_mode": {
    "name": "ipython",
    "version": 3
   },
   "file_extension": ".py",
   "mimetype": "text/x-python",
   "name": "python",
   "nbconvert_exporter": "python",
   "pygments_lexer": "ipython3",
   "version": "3.7.6"
  }
 },
 "nbformat": 4,
 "nbformat_minor": 4
}
